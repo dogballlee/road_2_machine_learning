{
 "cells": [
  {
   "cell_type": "code",
   "execution_count": 10,
   "metadata": {},
   "outputs": [],
   "source": [
    "import cv2\n",
    "import numpy as np\n",
    "from matplotlib import pyplot as plt"
   ]
  },
  {
   "cell_type": "markdown",
   "metadata": {},
   "source": [
    "***图像特征-Harris角点检测***"
   ]
  },
  {
   "cell_type": "code",
   "execution_count": 11,
   "metadata": {},
   "outputs": [],
   "source": [
    "path = r'C:\\Users\\Administrator\\Desktop\\titanic\\1587036837172.jpg'\n",
    "\n",
    "def cv_show(img, name):\n",
    "    cv2.imshow(name, img)\n",
    "    cv2.waitKey()\n",
    "    cv2.destroyAllWindows()"
   ]
  },
  {
   "cell_type": "code",
   "execution_count": 33,
   "metadata": {},
   "outputs": [],
   "source": [
    "img = cv2.imread(path)\n",
    "img_r = cv2.resize(img,(783,526))\n",
    "# print(img.shape)\n",
    "img_gray = cv2.cvtColor(img_r,cv2.COLOR_BGR2GRAY)\n",
    "cv_show(img_r,'img_r')"
   ]
  },
  {
   "cell_type": "code",
   "execution_count": 35,
   "metadata": {},
   "outputs": [
    {
     "name": "stdout",
     "output_type": "stream",
     "text": [
      "(526, 783, 3)\n",
      "(526, 783)\n"
     ]
    }
   ],
   "source": [
    "img_r32 = np.float32(img_gray)    #cornerHarris函数只接受float32格式的图片，切记\n",
    "dst = cv2.cornerHarris(img_r32,3,3,0.04)    #float32格式图片，角点检测指定区域大小，sobel算子检测窗口大小，k取值范围[0.04,0.06]，推荐0.04\n",
    "cv_show(dst,'dst')\n",
    "print(img_r.shape)\n",
    "print(dst.shape)"
   ]
  },
  {
   "cell_type": "code",
   "execution_count": 41,
   "metadata": {},
   "outputs": [],
   "source": [
    "img_r[dst>0.01*dst.max()] = [0,0,255]\n",
    "cv_show(img_r,'img_r')"
   ]
  },
  {
   "cell_type": "code",
   "execution_count": null,
   "metadata": {},
   "outputs": [],
   "source": []
  }
 ],
 "metadata": {
  "kernelspec": {
   "display_name": "Python 3",
   "language": "python",
   "name": "python3"
  },
  "language_info": {
   "codemirror_mode": {
    "name": "ipython",
    "version": 3
   },
   "file_extension": ".py",
   "mimetype": "text/x-python",
   "name": "python",
   "nbconvert_exporter": "python",
   "pygments_lexer": "ipython3",
   "version": "3.7.7"
  }
 },
 "nbformat": 4,
 "nbformat_minor": 4
}
