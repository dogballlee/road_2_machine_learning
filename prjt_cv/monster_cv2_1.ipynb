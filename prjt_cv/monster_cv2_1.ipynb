{
 "cells": [
  {
   "cell_type": "code",
   "execution_count": 1,
   "metadata": {},
   "outputs": [],
   "source": [
    "import cv2    #opencv-contrib-python/opencv-python版本太高就会遭遇SIFT方法专利保护，无法使用.....请先降级版本，此次降级到3.4.2.16\n",
    "import numpy as np\n",
    "from matplotlib import pyplot as plt"
   ]
  },
  {
   "cell_type": "markdown",
   "metadata": {},
   "source": [
    "***图像特征-Harris角点检测***"
   ]
  },
  {
   "cell_type": "code",
   "execution_count": 11,
   "metadata": {},
   "outputs": [],
   "source": [
    "path = r'C:\\Users\\Administrator\\Desktop\\titanic\\1587036837172.jpg'\n",
    "\n",
    "def cv_show(img, name):\n",
    "    cv2.imshow(name, img)\n",
    "    cv2.waitKey()\n",
    "    cv2.destroyAllWindows()"
   ]
  },
  {
   "cell_type": "code",
   "execution_count": 20,
   "metadata": {},
   "outputs": [],
   "source": [
    "img = cv2.imread(path)\n",
    "img_r = cv2.resize(img,(783,526))\n",
    "# print(img.shape)\n",
    "img_gray = cv2.cvtColor(img_r,cv2.COLOR_BGR2GRAY)\n",
    "cv_show(img_r,'img_r')"
   ]
  },
  {
   "cell_type": "code",
   "execution_count": 21,
   "metadata": {},
   "outputs": [
    {
     "name": "stdout",
     "output_type": "stream",
     "text": [
      "(526, 783, 3)\n",
      "(526, 783)\n"
     ]
    }
   ],
   "source": [
    "img_r32 = np.float32(img_gray)    #cornerHarris函数只接受float32格式的图片，切记\n",
    "dst = cv2.cornerHarris(img_r32,3,3,0.04)    #float32格式图片，角点检测指定区域大小，sobel算子检测窗口大小，k取值范围[0.04,0.06]，推荐0.04\n",
    "cv_show(dst,'dst')\n",
    "print(img_r.shape)\n",
    "print(dst.shape)"
   ]
  },
  {
   "cell_type": "code",
   "execution_count": 22,
   "metadata": {},
   "outputs": [],
   "source": [
    "img_r[dst>0.01*dst.max()] = [0,0,255]\n",
    "cv_show(img_r,'img_r')"
   ]
  },
  {
   "cell_type": "markdown",
   "metadata": {},
   "source": [
    "***SIFT（Scale Invariant Feature Transform）***  \n",
    "**图像尺度空间**：在一定范围内，无论物体大小，人眼都可以分辨出来，然而计算机要有相同的能力却很难，所以要让机器能够对物体在不同尺度下有一个同意的认知，就需要考虑图像在不同的尺度下都存在的特点  \n",
    "*尺度空间的获取通常使用高斯模糊来实现"
   ]
  },
  {
   "cell_type": "code",
   "execution_count": 23,
   "metadata": {
    "scrolled": true
   },
   "outputs": [
    {
     "data": {
      "text/plain": [
       "'3.4.2'"
      ]
     },
     "execution_count": 23,
     "metadata": {},
     "output_type": "execute_result"
    }
   ],
   "source": [
    "cv2.__version__    #opencv-contrib-python可以理解为在各种奇技淫巧加持下更加变态骚操作更多的opencv-python原版库"
   ]
  },
  {
   "cell_type": "markdown",
   "metadata": {},
   "source": [
    "*绘制关键点*"
   ]
  },
  {
   "cell_type": "code",
   "execution_count": 24,
   "metadata": {},
   "outputs": [],
   "source": [
    "sift = cv2.xfeatures2d.SIFT_create()\n",
    "kp = sift.detect(img_gray,None)"
   ]
  },
  {
   "cell_type": "code",
   "execution_count": 27,
   "metadata": {},
   "outputs": [],
   "source": [
    "img = cv2.drawKeypoints(img_gray,kp,img_r)\n",
    "cv_show(img,'drawkeypoints')"
   ]
  },
  {
   "cell_type": "markdown",
   "metadata": {},
   "source": [
    "*计算特征*"
   ]
  },
  {
   "cell_type": "code",
   "execution_count": 29,
   "metadata": {},
   "outputs": [],
   "source": [
    "kp,des = sift.compute(img_gray,kp)"
   ]
  },
  {
   "cell_type": "code",
   "execution_count": 31,
   "metadata": {},
   "outputs": [
    {
     "name": "stdout",
     "output_type": "stream",
     "text": [
      "(126,)\n"
     ]
    }
   ],
   "source": [
    "print(np.array(kp).shape)"
   ]
  },
  {
   "cell_type": "code",
   "execution_count": 32,
   "metadata": {},
   "outputs": [
    {
     "data": {
      "text/plain": [
       "(126, 128)"
      ]
     },
     "execution_count": 32,
     "metadata": {},
     "output_type": "execute_result"
    }
   ],
   "source": [
    "des.shape"
   ]
  },
  {
   "cell_type": "code",
   "execution_count": 40,
   "metadata": {},
   "outputs": [
    {
     "data": {
      "text/plain": [
       "array([ 84.,  19.,   0.,   0.,   0.,   0.,   0.,   0., 172.,   6.,   0.,\n",
       "         0.,   1.,   1.,   0.,  37., 102.,   0.,   0.,   7.,  98.,   6.,\n",
       "         0.,  23.,   0.,   0.,   3.,  31.,  52.,   0.,   0.,   0., 130.,\n",
       "        19.,   0.,   0.,   0.,   0.,   0.,   2., 172.,  11.,   0.,   0.,\n",
       "         5.,   2.,   2.,  81.,  96.,   2.,   0.,   7., 172.,  19.,   4.,\n",
       "        34.,   0.,   0.,   0.,  24.,  95.,   2.,   0.,   0., 112.,  12.,\n",
       "         0.,   0.,   0.,   0.,   0.,   0., 172.,  57.,   0.,   1.,   5.,\n",
       "         1.,   1.,   9.,  86.,  21.,   0.,   4., 172.,  20.,   1.,   3.,\n",
       "         0.,   0.,   0.,   6., 105.,   6.,   0.,   0.,   8.,   1.,   0.,\n",
       "         0.,   0.,   0.,   0.,   0.,  38.,   4.,   0.,   0.,   0.,   0.,\n",
       "         0.,   0.,   9.,   2.,   0.,   1.,  17.,   0.,   0.,   0.,   0.,\n",
       "         0.,   0.,   1.,  12.,   0.,   0.,   0.], dtype=float32)"
      ]
     },
     "execution_count": 40,
     "metadata": {},
     "output_type": "execute_result"
    }
   ],
   "source": [
    "des[0]"
   ]
  },
  {
   "cell_type": "code",
   "execution_count": null,
   "metadata": {},
   "outputs": [],
   "source": []
  }
 ],
 "metadata": {
  "kernelspec": {
   "display_name": "Python 3",
   "language": "python",
   "name": "python3"
  },
  "language_info": {
   "codemirror_mode": {
    "name": "ipython",
    "version": 3
   },
   "file_extension": ".py",
   "mimetype": "text/x-python",
   "name": "python",
   "nbconvert_exporter": "python",
   "pygments_lexer": "ipython3",
   "version": "3.7.7"
  }
 },
 "nbformat": 4,
 "nbformat_minor": 4
}
