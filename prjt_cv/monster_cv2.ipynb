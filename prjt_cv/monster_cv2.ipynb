{
 "cells": [
  {
   "cell_type": "code",
   "execution_count": 1,
   "metadata": {},
   "outputs": [],
   "source": [
    "import cv2\n",
    "import numpy as np\n",
    "# from tensorflow import keras as k"
   ]
  },
  {
   "cell_type": "code",
   "execution_count": 2,
   "metadata": {},
   "outputs": [],
   "source": [
    "path = r'C:\\\\Users\\\\Administrator\\\\Desktop\\elephant\\\\OCR_test\\\\20190309162316.png'\n",
    "\n",
    "def cv_show(img, name):\n",
    "    cv2.imshow(name, img)\n",
    "    cv2.waitKey()\n",
    "    cv2.destroyAllWindows()"
   ]
  },
  {
   "cell_type": "code",
   "execution_count": 17,
   "metadata": {
    "scrolled": true
   },
   "outputs": [],
   "source": [
    "img = cv2.imread(path)\n",
    "cv_show(img, 'img')"
   ]
  },
  {
   "cell_type": "code",
   "execution_count": 4,
   "metadata": {},
   "outputs": [],
   "source": [
    "imgGray = cv2.cvtColor(img,cv2.COLOR_BGR2GRAY)\n",
    "# print(imgGray.shape)\n",
    "imgGray_r = cv2.resize(imgGray,(342,514))    #干，shape是按高宽显示，resize是按宽高显示，正好相反，太久没学习忘掉了........\n",
    "# print(imgGray_r.shape)\n",
    "# cv_show(imgGray_r,'imgGray_r')"
   ]
  },
  {
   "cell_type": "code",
   "execution_count": 5,
   "metadata": {},
   "outputs": [],
   "source": [
    "kernel = np.ones((5,5),np.uint8)\n",
    "\n",
    "imgcropped = imgGray_r[152:495, 67:253]    #先高后宽：从上到下，从左到右\n",
    "# cv2.putText(imgcropped,\"cute lady\",(50,150),cv2.FONT_ITALIC,3,(255,0,255,1))\n",
    "# imgcanny = cv2.Canny(imgcropped,150,200)\n",
    "\n",
    "# imgEroded = cv2.erode(imgDilation,kernel,iterations=1)\n",
    "# imgDilation = cv2.dilate(imgcropped,kernel,iterations=1)\n",
    "\n",
    "# cv_show(imgcropped,'imgcropped')\n",
    "# cv_show(imgcropped,'imgcropped')"
   ]
  },
  {
   "cell_type": "code",
   "execution_count": 6,
   "metadata": {},
   "outputs": [],
   "source": [
    "# 以下利用高斯金字塔上下采样\n",
    "\n",
    "\n",
    "up = cv2.pyrUp(imgGray_r)    #上采样：将图像在每个方向扩大为原来的两倍，新增的行列以0填充\n",
    "# cv_show(up,'pyrUP')"
   ]
  },
  {
   "cell_type": "code",
   "execution_count": 7,
   "metadata": {},
   "outputs": [],
   "source": [
    "down = cv2.pyrDown(imgGray_r)    #降采样\n",
    "# cv_show(down,'pyrDown')"
   ]
  },
  {
   "cell_type": "code",
   "execution_count": 8,
   "metadata": {},
   "outputs": [],
   "source": [
    "up_down = cv2.pyrUp(down)\n",
    "# cv_show(up_down,'pyrup_down')"
   ]
  },
  {
   "cell_type": "code",
   "execution_count": 9,
   "metadata": {
    "scrolled": true
   },
   "outputs": [],
   "source": [
    "cv_show(np.hstack((imgGray_r, up_down,imgGray_r-up_down)),'compare')    #hstack是并排放置，vstack是纵排放置\n",
    "#imgGray_r-up_down  这里进行了一次拉普拉斯金字塔采样"
   ]
  },
  {
   "cell_type": "code",
   "execution_count": 75,
   "metadata": {},
   "outputs": [],
   "source": [
    "img_d = cv2.resize(img,(342,514))\n",
    "img_C = img_d.copy()    #一定要copy原图再处理，不然会修改原图\n",
    "ret, thresh = cv2.threshold(imgGray_r,127,255,cv2.THRESH_BINARY)    #阈值设置为127，超过该值则将像素点置为255\n",
    "contours, hierarchy = cv2.findContours(thresh,cv2.RETR_TREE, cv2.CHAIN_APPROX_NONE)\n",
    "# cv_show(thresh,'thresh')\n",
    "res = cv2.drawContours(img_C, contours, -1, (0,0,255), 1)    #图像、第几条轮廓线(-1代表所有的)、图像索引、轮廓颜色、轮廓粗细\n",
    "# x,y,w,h = cv2.boundingRect(contours[425])    #把某个轮廓线用矩形框起来，也可以用圆形框，改改函数就行\n",
    "# res = cv2.rectangle(res,(x,y),(x+w,y+h),(255,0,0),2)\n",
    "cv_show(res, 'res')"
   ]
  },
  {
   "cell_type": "code",
   "execution_count": 29,
   "metadata": {},
   "outputs": [],
   "source": []
  },
  {
   "cell_type": "code",
   "execution_count": null,
   "metadata": {},
   "outputs": [],
   "source": []
  }
 ],
 "metadata": {
  "kernelspec": {
   "display_name": "Python 3",
   "language": "python",
   "name": "python3"
  },
  "language_info": {
   "codemirror_mode": {
    "name": "ipython",
    "version": 3
   },
   "file_extension": ".py",
   "mimetype": "text/x-python",
   "name": "python",
   "nbconvert_exporter": "python",
   "pygments_lexer": "ipython3",
   "version": "3.7.7"
  }
 },
 "nbformat": 4,
 "nbformat_minor": 4
}
