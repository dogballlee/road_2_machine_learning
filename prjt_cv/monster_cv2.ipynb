{
 "cells": [
  {
   "cell_type": "code",
   "execution_count": 46,
   "metadata": {},
   "outputs": [],
   "source": [
    "import cv2\n",
    "# from tensorflow import keras as k"
   ]
  },
  {
   "cell_type": "code",
   "execution_count": 47,
   "metadata": {},
   "outputs": [],
   "source": [
    "path = r'C:\\\\Users\\\\Administrator\\\\Desktop\\elephant\\\\OCR_test\\\\20190309162316.png'\n",
    "\n",
    "def cv_show(img, name):\n",
    "    cv2.imshow(name, img)\n",
    "    cv2.waitKey()\n",
    "    cv2.destroyAllWindows()"
   ]
  },
  {
   "cell_type": "code",
   "execution_count": 48,
   "metadata": {
    "scrolled": true
   },
   "outputs": [],
   "source": [
    "img = cv2.imread(path)\n",
    "cv_show(img, 'img')"
   ]
  },
  {
   "cell_type": "code",
   "execution_count": 66,
   "metadata": {},
   "outputs": [],
   "source": [
    "imgGray = cv2.cvtColor(img,cv2.COLOR_BGR2GRAY)\n",
    "# print(imgGray.shape)\n",
    "imgGray_r = cv2.resize(imgGray,(342,514))    #干，shape是按高宽显示，resize是按宽高显示，正好相反，太久没学习忘掉了........\n",
    "# print(imgGray_r.shape)\n",
    "cv_show(imgGray_r,'imgGray_r')"
   ]
  },
  {
   "cell_type": "code",
   "execution_count": 70,
   "metadata": {},
   "outputs": [],
   "source": [
    "imgcropped = imgGray_r[152:495, 67:253]    #先高后宽：从上到下，从左到右\n",
    "# cv2.putText(imgcropped,\"cute lady\",(50,150),cv2.FONT_ITALIC,0.7,(50,221,214),3)\n",
    "cv_show(imgcropped,'imgcropped')"
   ]
  },
  {
   "cell_type": "code",
   "execution_count": null,
   "metadata": {},
   "outputs": [],
   "source": []
  }
 ],
 "metadata": {
  "kernelspec": {
   "display_name": "Python 3",
   "language": "python",
   "name": "python3"
  },
  "language_info": {
   "codemirror_mode": {
    "name": "ipython",
    "version": 3
   },
   "file_extension": ".py",
   "mimetype": "text/x-python",
   "name": "python",
   "nbconvert_exporter": "python",
   "pygments_lexer": "ipython3",
   "version": "3.7.7"
  }
 },
 "nbformat": 4,
 "nbformat_minor": 4
}
