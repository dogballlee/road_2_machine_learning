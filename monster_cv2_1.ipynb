{
 "cells": [
  {
   "cell_type": "code",
   "execution_count": 1,
   "metadata": {},
   "outputs": [],
   "source": [
    "import cv2\n",
    "import numpy as np\n",
    "from matplotlib import pyplot as plt"
   ]
  },
  {
   "cell_type": "markdown",
   "metadata": {},
   "source": [
    "***图像特征-Harris角点检测***"
   ]
  },
  {
   "cell_type": "code",
   "execution_count": 2,
   "metadata": {},
   "outputs": [],
   "source": [
    "path = r'C:\\Users\\Administrator\\Desktop\\titanic\\1587036837172.jpg'\n",
    "\n",
    "def cv_show(img, name):\n",
    "    cv2.imshow(name, img)\n",
    "    cv2.waitKey()\n",
    "    cv2.destroyAllWindows()"
   ]
  },
  {
   "cell_type": "code",
   "execution_count": 3,
   "metadata": {},
   "outputs": [],
   "source": [
    "img = cv2.imread(path)\n",
    "img_r = cv2.resize(img,(783,526))\n",
    "# print(img.shape)\n",
    "img_gray = cv2.cvtColor(img_r,cv2.COLOR_BGR2GRAY)\n",
    "cv_show(img_r,'img_r')"
   ]
  },
  {
   "cell_type": "code",
   "execution_count": 4,
   "metadata": {},
   "outputs": [
    {
     "name": "stdout",
     "output_type": "stream",
     "text": [
      "(526, 783, 3)\n",
      "(526, 783)\n"
     ]
    }
   ],
   "source": [
    "img_r32 = np.float32(img_gray)    #cornerHarris函数只接受float32格式的图片，切记\n",
    "dst = cv2.cornerHarris(img_r32,3,3,0.04)    #float32格式图片，角点检测指定区域大小，sobel算子检测窗口大小，k取值范围[0.04,0.06]，推荐0.04\n",
    "cv_show(dst,'dst')\n",
    "print(img_r.shape)\n",
    "print(dst.shape)"
   ]
  },
  {
   "cell_type": "code",
   "execution_count": 5,
   "metadata": {},
   "outputs": [],
   "source": [
    "img_r[dst>0.01*dst.max()] = [0,0,255]\n",
    "cv_show(img_r,'img_r')"
   ]
  },
  {
   "cell_type": "markdown",
   "metadata": {},
   "source": [
    "***SIFT（Scale Invariant Feature Transform）***  \n",
    "**图像尺度空间**：在一定范围内，无论物体大小，人眼都可以分辨出来，然而计算机要有相同的能力却很难，所以要让机器能够对物体在不同尺度下有一个同意的认知，就需要考虑图像在不同的尺度下都存在的特点  \n",
    "*尺度空间的获取通常使用高斯模糊来实现"
   ]
  },
  {
   "cell_type": "code",
   "execution_count": null,
   "metadata": {},
   "outputs": [],
   "source": []
  }
 ],
 "metadata": {
  "kernelspec": {
   "display_name": "Python 3",
   "language": "python",
   "name": "python3"
  },
  "language_info": {
   "codemirror_mode": {
    "name": "ipython",
    "version": 3
   },
   "file_extension": ".py",
   "mimetype": "text/x-python",
   "name": "python",
   "nbconvert_exporter": "python",
   "pygments_lexer": "ipython3",
   "version": "3.7.7"
  }
 },
 "nbformat": 4,
 "nbformat_minor": 4
}
